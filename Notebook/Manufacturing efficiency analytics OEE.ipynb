{
 "cells": [
  {
   "cell_type": "code",
   "execution_count": 1,
   "id": "3a4e983e-f809-4ff1-b48d-404a134ca0af",
   "metadata": {},
   "outputs": [
    {
     "name": "stdout",
     "output_type": "stream",
     "text": [
      "         date product   batch operator  planned_time_minutes  \\\n",
      "0  2024-08-29  OR-600  422111      Mac                   135   \n",
      "1  2024-08-29  LE-600  422112      Mac                   100   \n",
      "2  2024-08-29  LE-600  422113      Mac                   110   \n",
      "3  2024-08-29  LE-600  422114      Mac                   100   \n",
      "4  2024-08-29  LE-600  422115  Charlie                    84   \n",
      "\n",
      "   total_downtime_minutes  run_time  availability  \n",
      "0                      75        60         0.444  \n",
      "1                      40        60         0.600  \n",
      "2                      50        60         0.545  \n",
      "3                      40        60         0.600  \n",
      "4                      24        60         0.714  \n"
     ]
    }
   ],
   "source": [
    "import pandas as pd\n",
    "\n",
    "# Load the SQL output (availability results)\n",
    "batch_times = pd.read_csv(\"batch_times.csv\")\n",
    "\n",
    "print(batch_times.head())\n"
   ]
  },
  {
   "cell_type": "code",
   "execution_count": 2,
   "id": "0a054383-9119-4835-828c-b991134f4f0f",
   "metadata": {},
   "outputs": [
    {
     "name": "stdout",
     "output_type": "stream",
     "text": [
      "         date product   batch operator  planned_time_minutes  \\\n",
      "0  2024-08-29  OR-600  422111      Mac                   135   \n",
      "1  2024-08-29  LE-600  422112      Mac                   100   \n",
      "2  2024-08-29  LE-600  422113      Mac                   110   \n",
      "3  2024-08-29  LE-600  422114      Mac                   100   \n",
      "4  2024-08-29  LE-600  422115  Charlie                    84   \n",
      "\n",
      "   total_downtime_minutes  run_time  availability    size  total_units  \\\n",
      "0                      75        60         0.444  600 ml        15140   \n",
      "1                      40        60         0.600  600 ml        16758   \n",
      "2                      50        60         0.545  600 ml        16351   \n",
      "3                      40        60         0.600  600 ml        15926   \n",
      "4                      24        60         0.714  600 ml        14981   \n",
      "\n",
      "   reject_units  \n",
      "0           187  \n",
      "1           161  \n",
      "2           154  \n",
      "3           180  \n",
      "4           129  \n"
     ]
    }
   ],
   "source": [
    "# Merge batch_times with products and counts\n",
    "\n",
    "# Load product specs (pipe-delimited)\n",
    "products = pd.read_csv(\"products.csv\", sep=\"|\")\n",
    "products.columns = products.columns.str.strip().str.lower()\n",
    "\n",
    "# Load simulated counts\n",
    "counts = pd.read_csv(\"counts_simulated.csv\")\n",
    "counts.columns = counts.columns.str.strip().str.lower()\n",
    "\n",
    "# Merge batch_times + products + counts\n",
    "df = (batch_times\n",
    "      .merge(products[[\"product\",\"size\"]], left_on=\"product\", right_on=\"product\", how=\"left\")\n",
    "      .merge(counts, on=\"batch\", how=\"left\")) #basically a left join of batch_times with products and then with counts\n",
    "\n",
    "print(df.head())\n"
   ]
  },
  {
   "cell_type": "code",
   "execution_count": 3,
   "id": "9438404d-bbaa-489b-b745-daa1f99632b3",
   "metadata": {},
   "outputs": [
    {
     "name": "stdout",
     "output_type": "stream",
     "text": [
      "         date product   batch  run_time    size  total_units  \\\n",
      "0  2024-08-29  OR-600  422111        60  600 ml        15140   \n",
      "1  2024-08-29  LE-600  422112        60  600 ml        16758   \n",
      "2  2024-08-29  LE-600  422113        60  600 ml        16351   \n",
      "3  2024-08-29  LE-600  422114        60  600 ml        15926   \n",
      "4  2024-08-29  LE-600  422115        60  600 ml        14981   \n",
      "\n",
      "   ideal_rate_per_min  performance  \n",
      "0                 300        0.841  \n",
      "1                 300        0.931  \n",
      "2                 300        0.908  \n",
      "3                 300        0.885  \n",
      "4                 300        0.832  \n"
     ]
    }
   ],
   "source": [
    "import numpy as np\n",
    "\n",
    "# Assign ideal production rates (assumptions)\n",
    "IDEAL_RATE_BY_SIZE = {\"600 ml\": 300, \"2 L\": 120}\n",
    "DEFAULT_RATE = 250\n",
    "\n",
    "# Map ideal rates\n",
    "df[\"ideal_rate_per_min\"] = df[\"size\"].map(IDEAL_RATE_BY_SIZE).fillna(DEFAULT_RATE)\n",
    "\n",
    "# Ideal Cycle Time (sec per unit)\n",
    "df[\"ideal_cycle_time_sec\"] = 60 / df[\"ideal_rate_per_min\"]\n",
    "\n",
    "# Convert run_time to seconds\n",
    "df[\"run_time_sec\"] = df[\"run_time\"] * 60\n",
    "\n",
    "# Calculate True Performance\n",
    "df[\"performance\"] = np.where(\n",
    "    (df[\"run_time_sec\"] > 0) & (df[\"total_units\"] > 0),\n",
    "    (df[\"ideal_cycle_time_sec\"] * df[\"total_units\"]) / df[\"run_time_sec\"],\n",
    "    np.nan\n",
    ").clip(0,1.0).round(3)   # cap at 1.0 and round\n",
    "\n",
    "# Preview results\n",
    "print(df[[\"date\",\"product\",\"batch\",\"run_time\",\"size\",\"total_units\",\"ideal_rate_per_min\",\"performance\"]].head())\n"
   ]
  },
  {
   "cell_type": "code",
   "execution_count": 4,
   "id": "157570b3-33a4-4202-ada0-ec0add83610a",
   "metadata": {
    "scrolled": true
   },
   "outputs": [
    {
     "name": "stdout",
     "output_type": "stream",
     "text": [
      "         date product   batch operator  availability  performance  quality  \\\n",
      "0  2024-08-29  OR-600  422111      Mac         0.444        0.841    0.988   \n",
      "1  2024-08-29  LE-600  422112      Mac         0.600        0.931    0.990   \n",
      "2  2024-08-29  LE-600  422113      Mac         0.545        0.908    0.991   \n",
      "3  2024-08-29  LE-600  422114      Mac         0.600        0.885    0.989   \n",
      "4  2024-08-29  LE-600  422115  Charlie         0.714        0.832    0.991   \n",
      "\n",
      "     oee  \n",
      "0  0.369  \n",
      "1  0.553  \n",
      "2  0.490  \n",
      "3  0.525  \n",
      "4  0.589  \n"
     ]
    }
   ],
   "source": [
    "# STEP 4 — Calculate Quality and OEE \n",
    "\n",
    "# 1. Calculate Good Units\n",
    "df[\"good_units\"] = df[\"total_units\"] - df[\"reject_units\"]\n",
    "\n",
    "# 2. Quality = Good Units / Total Units\n",
    "df[\"quality\"] = np.where(\n",
    "    df[\"total_units\"] > 0,\n",
    "    df[\"good_units\"] / df[\"total_units\"],\n",
    "    np.nan\n",
    ").round(3)\n",
    "\n",
    "# 3. OEE = A × P × Q\n",
    "df[\"oee\"] = (df[\"availability\"] * df[\"performance\"] * df[\"quality\"]).round(3)\n",
    "\n",
    "# 4. Preview results\n",
    "print(df[[\"date\",\"product\",\"batch\",\"operator\",\"availability\",\"performance\",\"quality\",\"oee\"]].head())\n",
    "\n",
    "# Save to CSV for reporting\n",
    "df.to_csv(\"oee_results.csv\", index=False)\n"
   ]
  },
  {
   "cell_type": "code",
   "execution_count": 5,
   "id": "112d6dcf-04c5-4529-9e75-88ff3f2cc749",
   "metadata": {},
   "outputs": [
    {
     "name": "stdout",
     "output_type": "stream",
     "text": [
      "Saved as oee_results.csv\n"
     ]
    }
   ],
   "source": [
    "# Save final OEE results\n",
    "df.to_csv(\"oee_results.csv\", index=False)\n",
    "\n",
    "print(\"Saved as oee_results.csv\")\n"
   ]
  },
  {
   "cell_type": "code",
   "execution_count": 6,
   "id": "8800552c-ada8-4481-940d-0e3f33145a5b",
   "metadata": {},
   "outputs": [],
   "source": [
    "import pandas as pd\n",
    "# Load the final dataset\n",
    "oee_results = pd.read_csv(\"oee_results.csv\")"
   ]
  },
  {
   "cell_type": "code",
   "execution_count": 7,
   "id": "3afc25ae-f267-4d4f-9c19-f45baebe1d1a",
   "metadata": {},
   "outputs": [
    {
     "name": "stderr",
     "output_type": "stream",
     "text": [
      "C:\\Users\\iampr\\AppData\\Local\\Temp\\ipykernel_25408\\1610691806.py:5: FutureWarning: \n",
      "\n",
      "The `ci` parameter is deprecated. Use `errorbar=None` for the same effect.\n",
      "\n",
      "  sns.barplot(x=\"product\", y=\"oee\", data=oee_results, ci=None)\n"
     ]
    },
    {
     "data": {
      "image/png": "[encoded data removed]",
      "text/plain": [
       "<Figure size 800x500 with 1 Axes>"
      ]
     },
     "metadata": {},
     "output_type": "display_data"
    }
   ],
   "source": [
    "import seaborn as sns\n",
    "import matplotlib.pyplot as plt\n",
    "\n",
    "plt.figure(figsize=(8,5))\n",
    "sns.barplot(x=\"product\", y=\"oee\", data=oee_results, ci=None)\n",
    "plt.title(\"Average OEE by Product\")\n",
    "plt.ylabel(\"OEE\")\n",
    "plt.ylim(0,1)\n",
    "plt.savefig(\"avg_oee_by_product.png\", dpi=300, bbox_inches=\"tight\")\n",
    "plt.show()\n"
   ]
  },
  {
   "cell_type": "code",
   "execution_count": 8,
   "id": "2d555f74-4a43-47b1-89bd-1f4101979afc",
   "metadata": {},
   "outputs": [
    {
     "name": "stderr",
     "output_type": "stream",
     "text": [
      "C:\\Users\\iampr\\AppData\\Local\\Temp\\ipykernel_25408\\2968851242.py:2: FutureWarning: \n",
      "\n",
      "The `ci` parameter is deprecated. Use `errorbar=None` for the same effect.\n",
      "\n",
      "  sns.barplot(x=\"operator\", y=\"oee\", data=oee_results, ci=None)\n"
     ]
    },
    {
     "data": {
      "image/png": "[encoded data removed]",
      "text/plain": [
       "<Figure size 800x500 with 1 Axes>"
      ]
     },
     "metadata": {},
     "output_type": "display_data"
    }
   ],
   "source": [
    "plt.figure(figsize=(8,5))\n",
    "sns.barplot(x=\"operator\", y=\"oee\", data=oee_results, ci=None)\n",
    "plt.title(\"Average OEE by Operator\")\n",
    "plt.ylabel(\"OEE\")\n",
    "plt.ylim(0,1)   # force axis scale between 0 and 1\n",
    "plt.savefig(\"avg_oee_by_operator.png\", dpi=300, bbox_inches=\"tight\")\n",
    "plt.show()\n"
   ]
  },
  {
   "cell_type": "code",
   "execution_count": null,
   "id": "83a3c390-14b7-4769-8cdf-e5f6fb082b64",
   "metadata": {},
   "outputs": [],
   "source": []
  },
  {
   "cell_type": "code",
   "execution_count": null,
   "id": "007ed417-366b-480c-91bd-756d156a5f47",
   "metadata": {},
   "outputs": [],
   "source": []
  }
 ],
 "metadata": {
  "kernelspec": {
   "display_name": "Python 3 (ipykernel)",
   "language": "python",
   "name": "python3"
  },
  "language_info": {
   "codemirror_mode": {
    "name": "ipython",
    "version": 3
   },
   "file_extension": ".py",
   "mimetype": "text/x-python",
   "name": "python",
   "nbconvert_exporter": "python",
   "pygments_lexer": "ipython3",
   "version": "3.13.3"
  }
 },
 "nbformat": 4,
 "nbformat_minor": 5
}
